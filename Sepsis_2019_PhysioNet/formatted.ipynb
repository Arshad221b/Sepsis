{
 "cells": [
  {
   "cell_type": "code",
   "execution_count": 13,
   "metadata": {},
   "outputs": [],
   "source": [
    "import warnings\n",
    "warnings.filterwarnings('ignore')\n",
    "import numpy as np\n",
    "import xgboost as xgb\n",
    "from xgboost import XGBClassifier\n",
    "from sklearn.model_selection import train_test_split, StratifiedKFold, GridSearchCV\n",
    "from data_loader import load_data, data_process\n",
    "import matplotlib.pyplot as plt\n",
    "import pandas as pd\n",
    "from sklearn.preprocessing import LabelEncoder\n",
    "from sklearn.metrics import *\n",
    "from sklearn.metrics import confusion_matrix"
   ]
  },
  {
   "cell_type": "code",
   "execution_count": 14,
   "metadata": {},
   "outputs": [],
   "source": [
    "# evaluate predictions\n",
    "def eval_pred(y_test, predictions):\n",
    "    accuracy = accuracy_score(y_test, predictions)\n",
    "    print(\"Accuracy: %.2f%%\" % (accuracy * 100.0))\n",
    "    f1 = f1_score(y_test, predictions)\n",
    "    print(\"f1 score: %.2f%%\" % (f1 * 100.0))\n",
    "    roc_auc = roc_auc_score(y_test, predictions)\n",
    "    print(\"roc_auc score: %.2f%%\" % (roc_auc * 100.0))\n",
    "    confusion = confusion_matrix(y_test, predictions)\n",
    "    print(\"confusion matrix: \\n n = %d\\n\" %y_test.shape[0], confusion)\n",
    "    print(\"precision score: %.2f%%\" % (precision_score(y_test, predictions) * 100.0))\n",
    "    print(\"recall score: %.2f%%\" % (recall_score(y_test, predictions) * 100.0))"
   ]
  },
  {
   "cell_type": "code",
   "execution_count": 15,
   "metadata": {},
   "outputs": [],
   "source": [
    "# load data\n",
    "train_dir1 = '/Users/raina/Desktop/UHN/physionet/training'\n",
    "train_dir2 = '/Users/raina/Desktop/UHN/physionet/training_setB'\n",
    "train_data1, y1 = load_data(train_dir1, limit=20643)\n",
    "train_data2, y2 = load_data(train_dir2, limit=20000)\n",
    "train_data = train_data1 + train_data2\n",
    "y = y1 + y2\n",
    "X = data_process(train_data, expand_dims=False)"
   ]
  },
  {
   "cell_type": "code",
   "execution_count": 5,
   "metadata": {},
   "outputs": [
    {
     "name": "stdout",
     "output_type": "stream",
     "text": [
      "(1552210, 40) (1552210,)\n"
     ]
    }
   ],
   "source": [
    "y_ = np.hstack((yi for yi in y))\n",
    "X_ = np.vstack(X).astype(np.float)\n",
    "print(X_.shape, y_.shape)"
   ]
  },
  {
   "cell_type": "code",
   "execution_count": 6,
   "metadata": {},
   "outputs": [],
   "source": [
    "# split data into train and test sets\n",
    "seed = 42\n",
    "test_size = 0.4\n",
    "X_train, X_test, y_train, y_test = train_test_split(X_, y_, \n",
    "                                                    test_size=test_size,\n",
    "                                                    random_state=seed)"
   ]
  },
  {
   "cell_type": "code",
   "execution_count": 10,
   "metadata": {},
   "outputs": [],
   "source": [
    "model = XGBClassifier()\n",
    "model.load_model('./xgboost_models/001.model')\n",
    "model._le = LabelEncoder().fit(y_)"
   ]
  },
  {
   "cell_type": "code",
   "execution_count": 20,
   "metadata": {},
   "outputs": [
    {
     "data": {
      "text/plain": [
       "XGBClassifier(base_score=0.5, booster='gbtree', colsample_bylevel=1,\n",
       "              colsample_bytree=1, gamma=0, learning_rate=0.1, max_delta_step=0,\n",
       "              max_depth=6, min_child_weight=1, missing=None, n_estimators=100,\n",
       "              n_jobs=1, nthread=None, objective='binary:logistic',\n",
       "              random_state=0, reg_alpha=0, reg_lambda=1, scale_pos_weight=1,\n",
       "              seed=None, silent=True, subsample=1)"
      ]
     },
     "execution_count": 20,
     "metadata": {},
     "output_type": "execute_result"
    }
   ],
   "source": [
    "# fit the model\n",
    "model = XGBClassifier(max_depth=6)\n",
    "model.fit(X_train, y_train)"
   ]
  },
  {
   "cell_type": "code",
   "execution_count": 16,
   "metadata": {},
   "outputs": [
    {
     "name": "stdout",
     "output_type": "stream",
     "text": [
      "Accuracy: 98.12%\n",
      "f1 score: 7.51%\n",
      "roc_auc score: 52.04%\n",
      "confusion matrix: \n",
      " n = 1552210\n",
      " [[1521843    2451]\n",
      " [  26732    1184]]\n",
      "precision score: 32.57%\n",
      "recall score: 4.24%\n"
     ]
    }
   ],
   "source": [
    "# make predictions for test data\n",
    "# loop over each patient and predict using only past and present data\n",
    "y_pred = model.predict(X_)\n",
    "# since binay classification problem, can convert the result to 0 or 1\n",
    "# using round()\n",
    "predictions = [round(value) for value in y_pred]\n",
    "eval_pred(y_, predictions)"
   ]
  },
  {
   "cell_type": "code",
   "execution_count": 17,
   "metadata": {},
   "outputs": [
    {
     "data": {
      "text/plain": [
       "3635"
      ]
     },
     "execution_count": 17,
     "metadata": {},
     "output_type": "execute_result"
    }
   ],
   "source": [
    "len(y_pred[y_pred != 0])"
   ]
  },
  {
   "cell_type": "code",
   "execution_count": 18,
   "metadata": {},
   "outputs": [],
   "source": [
    "model.save_model('002.model')"
   ]
  }
 ],
 "metadata": {
  "kernelspec": {
   "display_name": "Python 3",
   "language": "python",
   "name": "python3"
  },
  "language_info": {
   "codemirror_mode": {
    "name": "ipython",
    "version": 3
   },
   "file_extension": ".py",
   "mimetype": "text/x-python",
   "name": "python",
   "nbconvert_exporter": "python",
   "pygments_lexer": "ipython3",
   "version": "3.6.6"
  }
 },
 "nbformat": 4,
 "nbformat_minor": 2
}
