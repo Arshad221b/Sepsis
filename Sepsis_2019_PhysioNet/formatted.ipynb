{
 "cells": [
  {
   "cell_type": "code",
   "execution_count": 13,
   "metadata": {},
   "outputs": [],
   "source": [
    "import warnings\n",
    "warnings.filterwarnings('ignore')\n",
    "import numpy as np\n",
    "import xgboost as xgb\n",
    "from xgboost import XGBClassifier\n",
    "from sklearn.model_selection import train_test_split, StratifiedKFold, GridSearchCV\n",
    "from data_loader import load_data, data_process\n",
    "import matplotlib.pyplot as plt\n",
    "import pandas as pd\n",
    "from sklearn.preprocessing import LabelEncoder\n",
    "from sklearn.metrics import *\n",
    "from sklearn.metrics import confusion_matrix"
   ]
  },
  {
   "cell_type": "code",
   "execution_count": 14,
   "metadata": {},
   "outputs": [],
   "source": [
    "# evaluate predictions\n",
    "def eval_pred(y_test, predictions):\n",
    "    accuracy = accuracy_score(y_test, predictions)\n",
    "    print(\"Accuracy: %.2f%%\" % (accuracy * 100.0))\n",
    "    f1 = f1_score(y_test, predictions)\n",
    "    print(\"f1 score: %.2f%%\" % (f1 * 100.0))\n",
    "    roc_auc = roc_auc_score(y_test, predictions)\n",
    "    print(\"roc_auc score: %.2f%%\" % (roc_auc * 100.0))\n",
    "    confusion = confusion_matrix(y_test, predictions)\n",
    "    print(\"confusion matrix: \\n n = %d\\n\" %y_test.shape[0], confusion)\n",
    "    print(\"precision score: %.2f%%\" % (precision_score(y_test, predictions) * 100.0))\n",
    "    print(\"recall score: %.2f%%\" % (recall_score(y_test, predictions) * 100.0))"
   ]
  },
  {
   "cell_type": "code",
   "execution_count": 15,
   "metadata": {},
   "outputs": [],
   "source": [
    "# load data\n",
    "def load_data(limit1, limit2):\n",
    "    train_dir1 = '/Users/raina/Desktop/UHN/physionet/training'\n",
    "    train_dir2 = '/Users/raina/Desktop/UHN/physionet/training_setB'\n",
    "    train_data1, y1 = load_data(train_dir1, limit=limit1)\n",
    "    train_data2, y2 = load_data(train_dir2, limit=limit2)\n",
    "    train_data = train_data1 + train_data2\n",
    "    X = data_process(train_data, expand_dims=False)\n",
    "    y = y1 + y2\n",
    "    y_ = np.hstack((yi for yi in y))\n",
    "    X_ = np.vstack(X).astype(np.float)\n",
    "    print(X_.shape, y_.shape)\n",
    "    return X_, y_"
   ]
  },
  {
   "cell_type": "code",
   "execution_count": 32,
   "metadata": {},
   "outputs": [],
   "source": [
    "def load_model(model_name):\n",
    "    model = XGBClassifier()\n",
    "    model.load_model('./xgboost_models/' + model_name)\n",
    "    model._le = LabelEncoder().fit(y_train)\n",
    "    return model"
   ]
  },
  {
   "cell_type": "code",
   "execution_count": 6,
   "metadata": {},
   "outputs": [],
   "source": [
    "# split data into train and test sets\n",
    "seed = 42\n",
    "test_size = 0.4\n",
    "X_train, X_test, y_train, y_test = train_test_split(X_, y_, \n",
    "                                                    test_size=test_size,\n",
    "                                                    random_state=seed)"
   ]
  },
  {
   "cell_type": "code",
   "execution_count": 25,
   "metadata": {},
   "outputs": [],
   "source": [
    "# parameters\n",
    "base_params = {\n",
    "    'booster': 'gbtree',\n",
    "    'objective': 'binary:logistic', \n",
    "    'seed': 42} \n",
    "# best_params = {'subsample': 1.0, 'min_child_weight': 1, 'max_depth': 10, \n",
    "#                'learning_rate': 0.3, 'gamma': 0.1, 'colsample_bytree': 0.6}\n",
    "best_params = {'subsample': 1.0, 'min_child_weight': 1, 'max_depth': 20, \n",
    "               'learning_rate': 0.5, 'gamma': 0.5, 'colsample_bytree': 1.0}\n",
    "params = {**base_params, **best_params}"
   ]
  },
  {
   "cell_type": "code",
   "execution_count": 27,
   "metadata": {},
   "outputs": [
    {
     "data": {
      "text/plain": [
       "XGBClassifier(base_score=0.5, booster='gbtree', colsample_bylevel=1,\n",
       "              colsample_bytree=1.0, gamma=0.5, learning_rate=0.5,\n",
       "              max_delta_step=0, max_depth=20, min_child_weight=1, missing=None,\n",
       "              n_estimators=100, n_jobs=1, nthread=None,\n",
       "              objective='binary:logistic', random_state=0, reg_alpha=0,\n",
       "              reg_lambda=1, scale_pos_weight=1, seed=42, silent=True,\n",
       "              subsample=1.0)"
      ]
     },
     "execution_count": 27,
     "metadata": {},
     "output_type": "execute_result"
    }
   ],
   "source": [
    "# fit the model\n",
    "model = XGBClassifier(**params)\n",
    "model.fit(X_train, y_train)"
   ]
  },
  {
   "cell_type": "code",
   "execution_count": 28,
   "metadata": {},
   "outputs": [
    {
     "name": "stdout",
     "output_type": "stream",
     "text": [
      "Accuracy: 98.61%\n",
      "f1 score: 40.36%\n",
      "roc_auc score: 63.04%\n",
      "confusion matrix: \n",
      " n = 620884\n",
      " [[609307    384]\n",
      " [  8266   2927]]\n",
      "precision score: 88.40%\n",
      "recall score: 26.15%\n"
     ]
    }
   ],
   "source": [
    "# make predictions for test data\n",
    "# loop over each patient and predict using only past and present data\n",
    "y_pred = model.predict(X_test)\n",
    "# since binay classification problem, can convert the result to 0 or 1\n",
    "# using round()\n",
    "predictions = [round(value) for value in y_pred]\n",
    "eval_pred(y_test, predictions)"
   ]
  },
  {
   "cell_type": "code",
   "execution_count": 29,
   "metadata": {},
   "outputs": [],
   "source": [
    "model.save_model('004.model')"
   ]
  }
 ],
 "metadata": {
  "kernelspec": {
   "display_name": "Python 3",
   "language": "python",
   "name": "python3"
  },
  "language_info": {
   "codemirror_mode": {
    "name": "ipython",
    "version": 3
   },
   "file_extension": ".py",
   "mimetype": "text/x-python",
   "name": "python",
   "nbconvert_exporter": "python",
   "pygments_lexer": "ipython3",
   "version": "3.6.6"
  }
 },
 "nbformat": 4,
 "nbformat_minor": 2
}
