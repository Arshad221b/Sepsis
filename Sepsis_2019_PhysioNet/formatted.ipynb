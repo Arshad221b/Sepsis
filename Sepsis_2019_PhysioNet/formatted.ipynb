{
 "cells": [
  {
   "cell_type": "code",
   "execution_count": 39,
   "metadata": {},
   "outputs": [],
   "source": [
    "import warnings\n",
    "warnings.filterwarnings('ignore')\n",
    "from typing import List\n",
    "import numpy as np\n",
    "import xgboost as xgb\n",
    "from xgboost import XGBClassifier\n",
    "from sklearn.model_selection import train_test_split, StratifiedKFold, GridSearchCV\n",
    "from data_loader import load_data, data_process\n",
    "import matplotlib.pyplot as plt\n",
    "import pandas as pd\n",
    "from sklearn.preprocessing import LabelEncoder\n",
    "from sklearn.metrics import *\n",
    "from sklearn.metrics import confusion_matrix"
   ]
  },
  {
   "cell_type": "code",
   "execution_count": 94,
   "metadata": {},
   "outputs": [],
   "source": [
    "# global variables\n",
    "num_model = 4"
   ]
  },
  {
   "cell_type": "code",
   "execution_count": 98,
   "metadata": {},
   "outputs": [],
   "source": [
    "# evaluate predictions\n",
    "\n",
    "def format_(name, value) -> str:\n",
    "    new = name + \": %.2f%%\" % (value * 100.0)\n",
    "    print(new)\n",
    "    return new\n",
    "\n",
    "def eval_pred(y_test, predictions) -> dict:\n",
    "    result = {}\n",
    "    accuracy = accuracy_score(y_test, predictions)\n",
    "    result['accuracy'] = format_('accuracy', accuracy)\n",
    "    f1 = f1_score(y_test, predictions)\n",
    "    result['f1 score'] = format_('f1 score', f1)\n",
    "    roc_auc = roc_auc_score(y_test, predictions)\n",
    "    result['roc_auc score'] = format_('roc_auc score', roc_auc)\n",
    "    confusion = confusion_matrix(y_test, predictions)\n",
    "    conf = \"confusion matrix: \\n n = %d\\n\" %y_test.shape[0] +  confusion\n",
    "    print(conf)\n",
    "    result['confusion matrix'] = conf\n",
    "    precision = precision_score(y_test, predictions)\n",
    "    result['precision score'] = format_('precision score', precision)\n",
    "    recall = recall_score(y_test, predictions)\n",
    "    result['recall score'] = format_('recall score', recall)\n",
    "    \n",
    "    return result"
   ]
  },
  {
   "cell_type": "code",
   "execution_count": 43,
   "metadata": {},
   "outputs": [],
   "source": [
    "# load data\n",
    "def load_data(limit1, limit2):\n",
    "    train_dir1 = '/Users/raina/Desktop/UHN/physionet/training'\n",
    "    train_dir2 = '/Users/raina/Desktop/UHN/physionet/training_setB'\n",
    "    train_data1, y1 = load_data(train_dir1, limit=limit1)\n",
    "    train_data2, y2 = load_data(train_dir2, limit=limit2)\n",
    "    train_data = train_data1 + train_data2\n",
    "    X = data_process(train_data, expand_dims=False)\n",
    "    y = y1 + y2\n",
    "    y_ = np.hstack((yi for yi in y))\n",
    "    X_ = np.vstack(X).astype(np.float)\n",
    "    print(X_.shape, y_.shape)\n",
    "    return X_, y_"
   ]
  },
  {
   "cell_type": "code",
   "execution_count": 93,
   "metadata": {},
   "outputs": [],
   "source": [
    "def load_model(model_name):\n",
    "    model = XGBClassifier()\n",
    "    model.load_model('./xgboost_models/' + model_name + \".model\")\n",
    "    model._le = LabelEncoder().fit(y_train)\n",
    "    return model"
   ]
  },
  {
   "cell_type": "code",
   "execution_count": 96,
   "metadata": {},
   "outputs": [],
   "source": [
    "import getpass\n",
    "def save_results(model, scores: List[dict], num_model) -> None:\n",
    "    user_name = getpass.getuser()\n",
    "    model_name = \"{0:0=3d}\".format(num_model)\n",
    "    model.save_model(\"../xgboost_models/\" + model_name + \".model\")\n",
    "    with open(f\"{user_name}.txt\", \"a+\") as f:\n",
    "        head = \"model \" + model_name + \":\" + \"\\n\"\n",
    "        f.writelines(head)\n",
    "        for name, value in scores.items():\n",
    "            f.writelines(str(value) + \"\\n\")\n",
    "        f.writelines(\"\\n\")\n",
    "    print(f\"Result written to {user_name}.txt\")"
   ]
  },
  {
   "cell_type": "code",
   "execution_count": 6,
   "metadata": {},
   "outputs": [],
   "source": [
    "# split data into train and test sets\n",
    "seed = 42\n",
    "test_size = 0.4\n",
    "X_train, X_test, y_train, y_test = train_test_split(X_, y_, \n",
    "                                                    test_size=test_size,\n",
    "                                                    random_state=seed)"
   ]
  },
  {
   "cell_type": "code",
   "execution_count": 35,
   "metadata": {},
   "outputs": [],
   "source": [
    "# parameters\n",
    "base_params = {\n",
    "    'booster': 'gbtree',\n",
    "    'objective': 'binary:logistic', \n",
    "    'seed': 42} \n",
    "# best_params = {'subsample': 1.0, 'min_child_weight': 1, 'max_depth': 10, \n",
    "#                'learning_rate': 0.3, 'gamma': 0.1, 'colsample_bytree': 0.6}\n",
    "best_params = {'subsample': 1.0, 'min_child_weight': 1, \n",
    "               'max_depth': 20, 'learning_rate': 0.4, \n",
    "               'gamma': 0.1, 'colsample_bytree': 1.0}\n",
    "params = {**base_params, **best_params}"
   ]
  },
  {
   "cell_type": "code",
   "execution_count": 36,
   "metadata": {},
   "outputs": [
    {
     "data": {
      "text/plain": [
       "XGBClassifier(base_score=0.5, booster='gbtree', colsample_bylevel=1,\n",
       "              colsample_bytree=1.0, gamma=0.1, learning_rate=0.4,\n",
       "              max_delta_step=0, max_depth=20, min_child_weight=1, missing=None,\n",
       "              n_estimators=100, n_jobs=1, nthread=None,\n",
       "              objective='binary:logistic', random_state=0, reg_alpha=0,\n",
       "              reg_lambda=1, scale_pos_weight=1, seed=42, silent=True,\n",
       "              subsample=1.0)"
      ]
     },
     "execution_count": 36,
     "metadata": {},
     "output_type": "execute_result"
    }
   ],
   "source": [
    "# fit the model\n",
    "model = XGBClassifier(**params)\n",
    "model.fit(X_train, y_train)"
   ]
  },
  {
   "cell_type": "code",
   "execution_count": 79,
   "metadata": {},
   "outputs": [
    {
     "name": "stdout",
     "output_type": "stream",
     "text": [
      "accuracy: 98.61%\n",
      "f1 score: 40.24%\n",
      "roc_auc score: 62.92%\n",
      "confusion matrix: \n",
      " n = 620884\n",
      " [[609375    316]\n",
      " [  8294   2899]]\n",
      "precision score: 90.17%\n",
      "recall score: 25.90%\n"
     ]
    }
   ],
   "source": [
    "# make predictions for test data\n",
    "# loop over each patient and predict using only past and present data\n",
    "y_pred = model.predict(X_test)\n",
    "# since binay classification problem, can convert the result to 0 or 1\n",
    "# using round()\n",
    "predictions = [round(value) for value in y_pred]\n",
    "scores = eval_pred(y_test, predictions)"
   ]
  },
  {
   "cell_type": "code",
   "execution_count": 97,
   "metadata": {},
   "outputs": [
    {
     "name": "stdout",
     "output_type": "stream",
     "text": [
      "Result written to raina.txt\n"
     ]
    }
   ],
   "source": [
    "num_model += 1\n",
    "save_results(model, scores, num_model)"
   ]
  }
 ],
 "metadata": {
  "kernelspec": {
   "display_name": "Python 3",
   "language": "python",
   "name": "python3"
  },
  "language_info": {
   "codemirror_mode": {
    "name": "ipython",
    "version": 3
   },
   "file_extension": ".py",
   "mimetype": "text/x-python",
   "name": "python",
   "nbconvert_exporter": "python",
   "pygments_lexer": "ipython3",
   "version": "3.6.6"
  }
 },
 "nbformat": 4,
 "nbformat_minor": 2
}
